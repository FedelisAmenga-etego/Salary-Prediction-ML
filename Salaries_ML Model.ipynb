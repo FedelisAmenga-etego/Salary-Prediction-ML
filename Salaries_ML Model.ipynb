{
 "cells": [
  {
   "cell_type": "markdown",
   "id": "2645c532",
   "metadata": {},
   "source": [
    "# **MACHINE LEARNING SALARY PREDICTION**"
   ]
  },
  {
   "cell_type": "markdown",
   "id": "e53da15b",
   "metadata": {},
   "source": [
    "## **Data Exploration**"
   ]
  },
  {
   "cell_type": "markdown",
   "id": "822cbac4",
   "metadata": {},
   "source": [
    "**Load Dataset**"
   ]
  },
  {
   "cell_type": "code",
   "execution_count": 1,
   "id": "f087bd19",
   "metadata": {},
   "outputs": [],
   "source": [
    "import pandas as pd\n",
    "\n",
    "df = pd.read_csv(\"Salary_Data.csv\")"
   ]
  },
  {
   "cell_type": "markdown",
   "id": "8bc3e4ed",
   "metadata": {},
   "source": [
    "**Little Inspection**"
   ]
  },
  {
   "cell_type": "code",
   "execution_count": 2,
   "id": "a1c70400",
   "metadata": {},
   "outputs": [
    {
     "data": {
      "application/vnd.microsoft.datawrangler.viewer.v0+json": {
       "columns": [
        {
         "name": "index",
         "rawType": "object",
         "type": "string"
        },
        {
         "name": "Age",
         "rawType": "float64",
         "type": "float"
        },
        {
         "name": "Years of Experience",
         "rawType": "float64",
         "type": "float"
        },
        {
         "name": "Salary",
         "rawType": "float64",
         "type": "float"
        }
       ],
       "ref": "aa50d43e-260e-4392-bc12-3f3073c28a38",
       "rows": [
        [
         "count",
         "6702.0",
         "6701.0",
         "6699.0"
        ],
        [
         "mean",
         "33.62085944494181",
         "8.094687360095508",
         "115326.96477086132"
        ],
        [
         "std",
         "7.614632626251303",
         "6.059003056634102",
         "52786.18391068297"
        ],
        [
         "min",
         "21.0",
         "0.0",
         "350.0"
        ],
        [
         "25%",
         "28.0",
         "3.0",
         "70000.0"
        ],
        [
         "50%",
         "32.0",
         "7.0",
         "115000.0"
        ],
        [
         "75%",
         "38.0",
         "12.0",
         "160000.0"
        ],
        [
         "max",
         "62.0",
         "34.0",
         "250000.0"
        ]
       ],
       "shape": {
        "columns": 3,
        "rows": 8
       }
      },
      "text/html": [
       "<div>\n",
       "<style scoped>\n",
       "    .dataframe tbody tr th:only-of-type {\n",
       "        vertical-align: middle;\n",
       "    }\n",
       "\n",
       "    .dataframe tbody tr th {\n",
       "        vertical-align: top;\n",
       "    }\n",
       "\n",
       "    .dataframe thead th {\n",
       "        text-align: right;\n",
       "    }\n",
       "</style>\n",
       "<table border=\"1\" class=\"dataframe\">\n",
       "  <thead>\n",
       "    <tr style=\"text-align: right;\">\n",
       "      <th></th>\n",
       "      <th>Age</th>\n",
       "      <th>Years of Experience</th>\n",
       "      <th>Salary</th>\n",
       "    </tr>\n",
       "  </thead>\n",
       "  <tbody>\n",
       "    <tr>\n",
       "      <th>count</th>\n",
       "      <td>6702.000000</td>\n",
       "      <td>6701.000000</td>\n",
       "      <td>6699.000000</td>\n",
       "    </tr>\n",
       "    <tr>\n",
       "      <th>mean</th>\n",
       "      <td>33.620859</td>\n",
       "      <td>8.094687</td>\n",
       "      <td>115326.964771</td>\n",
       "    </tr>\n",
       "    <tr>\n",
       "      <th>std</th>\n",
       "      <td>7.614633</td>\n",
       "      <td>6.059003</td>\n",
       "      <td>52786.183911</td>\n",
       "    </tr>\n",
       "    <tr>\n",
       "      <th>min</th>\n",
       "      <td>21.000000</td>\n",
       "      <td>0.000000</td>\n",
       "      <td>350.000000</td>\n",
       "    </tr>\n",
       "    <tr>\n",
       "      <th>25%</th>\n",
       "      <td>28.000000</td>\n",
       "      <td>3.000000</td>\n",
       "      <td>70000.000000</td>\n",
       "    </tr>\n",
       "    <tr>\n",
       "      <th>50%</th>\n",
       "      <td>32.000000</td>\n",
       "      <td>7.000000</td>\n",
       "      <td>115000.000000</td>\n",
       "    </tr>\n",
       "    <tr>\n",
       "      <th>75%</th>\n",
       "      <td>38.000000</td>\n",
       "      <td>12.000000</td>\n",
       "      <td>160000.000000</td>\n",
       "    </tr>\n",
       "    <tr>\n",
       "      <th>max</th>\n",
       "      <td>62.000000</td>\n",
       "      <td>34.000000</td>\n",
       "      <td>250000.000000</td>\n",
       "    </tr>\n",
       "  </tbody>\n",
       "</table>\n",
       "</div>"
      ],
      "text/plain": [
       "               Age  Years of Experience         Salary\n",
       "count  6702.000000          6701.000000    6699.000000\n",
       "mean     33.620859             8.094687  115326.964771\n",
       "std       7.614633             6.059003   52786.183911\n",
       "min      21.000000             0.000000     350.000000\n",
       "25%      28.000000             3.000000   70000.000000\n",
       "50%      32.000000             7.000000  115000.000000\n",
       "75%      38.000000            12.000000  160000.000000\n",
       "max      62.000000            34.000000  250000.000000"
      ]
     },
     "execution_count": 2,
     "metadata": {},
     "output_type": "execute_result"
    }
   ],
   "source": [
    "df.isna().sum() # checking for missing values\n",
    "df.shape        # 6704 rows and 6 columns\n",
    "df.dtypes       # checking the data type of each variable\n",
    "df.describe()   # summary statistics"
   ]
  },
  {
   "cell_type": "markdown",
   "id": "b745cc90",
   "metadata": {},
   "source": [
    "## **Data Preprocessing**"
   ]
  },
  {
   "cell_type": "markdown",
   "id": "2c17fdad",
   "metadata": {},
   "source": [
    "### Handling Missing Values"
   ]
  },
  {
   "cell_type": "markdown",
   "id": "2f324f7c",
   "metadata": {},
   "source": [
    "*Imputing numeric values with the median*"
   ]
  },
  {
   "cell_type": "code",
   "execution_count": 3,
   "id": "4fcd2103",
   "metadata": {},
   "outputs": [
    {
     "data": {
      "application/vnd.microsoft.datawrangler.viewer.v0+json": {
       "columns": [
        {
         "name": "index",
         "rawType": "object",
         "type": "string"
        },
        {
         "name": "0",
         "rawType": "int64",
         "type": "integer"
        }
       ],
       "ref": "af1dc8f3-dcc1-4a2d-a662-1df7c59f9e57",
       "rows": [
        [
         "Age",
         "0"
        ],
        [
         "Gender",
         "2"
        ],
        [
         "Education Level",
         "3"
        ],
        [
         "Job Title",
         "2"
        ],
        [
         "Years of Experience",
         "0"
        ],
        [
         "Salary",
         "0"
        ]
       ],
       "shape": {
        "columns": 1,
        "rows": 6
       }
      },
      "text/plain": [
       "Age                    0\n",
       "Gender                 2\n",
       "Education Level        3\n",
       "Job Title              2\n",
       "Years of Experience    0\n",
       "Salary                 0\n",
       "dtype: int64"
      ]
     },
     "execution_count": 3,
     "metadata": {},
     "output_type": "execute_result"
    }
   ],
   "source": [
    "median_age = df[\"Age\"].median()\n",
    "df[\"Age\"] = df[\"Age\"].fillna(median_age)\n",
    "\n",
    "median_exp = df[\"Years of Experience\"].median()\n",
    "df[\"Years of Experience\"] = df[\"Years of Experience\"].fillna(median_exp)\n",
    "\n",
    "median_salary = df[\"Salary\"].median()\n",
    "df[\"Salary\"] = df[\"Salary\"].fillna(median_salary)\n",
    "\n",
    "df.isna().sum() # Successfully handling of missing values in the numeric columns"
   ]
  },
  {
   "cell_type": "markdown",
   "id": "9da5e088",
   "metadata": {},
   "source": [
    "*Imputing missing categorical values with the mode*"
   ]
  },
  {
   "cell_type": "code",
   "execution_count": 4,
   "id": "33d3e94b",
   "metadata": {},
   "outputs": [
    {
     "name": "stdout",
     "output_type": "stream",
     "text": [
      "0    Male\n",
      "Name: Gender, dtype: object\n",
      "0    Bachelor's Degree\n",
      "Name: Education Level, dtype: object\n",
      "0    Software Engineer\n",
      "Name: Job Title, dtype: object\n"
     ]
    },
    {
     "data": {
      "application/vnd.microsoft.datawrangler.viewer.v0+json": {
       "columns": [
        {
         "name": "index",
         "rawType": "object",
         "type": "string"
        },
        {
         "name": "0",
         "rawType": "int64",
         "type": "integer"
        }
       ],
       "ref": "ffb7990a-bd69-4fad-b826-c12907d514c0",
       "rows": [
        [
         "Age",
         "0"
        ],
        [
         "Gender",
         "0"
        ],
        [
         "Education Level",
         "0"
        ],
        [
         "Job Title",
         "0"
        ],
        [
         "Years of Experience",
         "0"
        ],
        [
         "Salary",
         "0"
        ]
       ],
       "shape": {
        "columns": 1,
        "rows": 6
       }
      },
      "text/plain": [
       "Age                    0\n",
       "Gender                 0\n",
       "Education Level        0\n",
       "Job Title              0\n",
       "Years of Experience    0\n",
       "Salary                 0\n",
       "dtype: int64"
      ]
     },
     "execution_count": 4,
     "metadata": {},
     "output_type": "execute_result"
    }
   ],
   "source": [
    "print(df[\"Gender\"].mode()) #The mode is Male, so missing instances will be replaced by \"Male\" \n",
    "df[\"Gender\"] = df[\"Gender\"].astype(str) # Converting object to a string\n",
    "df[\"Gender\"] = df[\"Gender\"].replace(\"nan\", \"Male\")\n",
    "\n",
    "\n",
    "print(df[\"Education Level\"].mode()) # The mode for educational level is \"Bachelor's Degree\"\n",
    "df[\"Education Level\"] = df[\"Education Level\"].astype(str) # Converting object to a string\n",
    "df[\"Education Level\"] = df[\"Education Level\"].replace({\"nan\" :\"Bachelor's Degree\", # we still need to tidy up the values a bit for consistency\n",
    "                                                      \"Master's\": \"Master's Degree\",\n",
    "                                                      \"Bachelor's\": \"Bachelor's Degree\",\n",
    "                                                      \"phD\": \"PhD\"})\n",
    "\n",
    "print(df[\"Job Title\"].mode()) # The mode for the Job Title column is \"Software Engineer\"\n",
    "df[\"Job Title\"] = df[\"Job Title\"].astype(str) # Converting object to a string\n",
    "df[\"Job Title\"] = df[\"Job Title\"].replace(\"nan\", \"Software Engineer\")\n",
    "\n",
    "df.isna().sum() # Successfully handled all missing values for the entire dataset"
   ]
  },
  {
   "cell_type": "markdown",
   "id": "a0f62d7f",
   "metadata": {},
   "source": [
    "### Categorical and Numerical Variables"
   ]
  },
  {
   "cell_type": "code",
   "execution_count": 5,
   "id": "fbc97828",
   "metadata": {},
   "outputs": [],
   "source": [
    "categorical_features = [\"Gender\", \"Education Level\", \"Job Title\"]\n",
    "numerical_features = [\"Age\", \"Years of Experience\"] # This should not include the target variable"
   ]
  },
  {
   "cell_type": "markdown",
   "id": "df4d89aa",
   "metadata": {},
   "source": [
    "### Building Preprocessing Transformer"
   ]
  },
  {
   "cell_type": "code",
   "execution_count": 6,
   "id": "345531e3",
   "metadata": {},
   "outputs": [],
   "source": [
    "from sklearn.preprocessing import OneHotEncoder, StandardScaler\n",
    "from sklearn.compose import ColumnTransformer\n",
    "\n",
    "preprocessor = ColumnTransformer(\n",
    "    transformers=[\n",
    "        (\"cat\", OneHotEncoder(handle_unknown=\"ignore\"), categorical_features),\n",
    "        (\"num\", StandardScaler(), numerical_features)\n",
    "    ]\n",
    ")"
   ]
  },
  {
   "cell_type": "markdown",
   "id": "98640d05",
   "metadata": {},
   "source": [
    "### Creating a Pipeline (*preprocessing and model*)"
   ]
  },
  {
   "cell_type": "code",
   "execution_count": 7,
   "id": "f0aea7ad",
   "metadata": {},
   "outputs": [],
   "source": [
    "from sklearn.pipeline import Pipeline\n",
    "from sklearn.ensemble import RandomForestRegressor\n",
    "\n",
    "pipeline = Pipeline([(\"preprocessor\", preprocessor),\n",
    "                     (\"model\", RandomForestRegressor(random_state=23))])"
   ]
  },
  {
   "cell_type": "markdown",
   "id": "4ad10b62",
   "metadata": {},
   "source": [
    "### Define Features and Target "
   ]
  },
  {
   "cell_type": "code",
   "execution_count": 8,
   "id": "30fbd5cb",
   "metadata": {},
   "outputs": [],
   "source": [
    "X = df.drop(\"Salary\", axis=1)\n",
    "y = df[\"Salary\"]"
   ]
  },
  {
   "cell_type": "markdown",
   "id": "085f2e24",
   "metadata": {},
   "source": [
    "### Cross-validation with Pipeline"
   ]
  },
  {
   "cell_type": "code",
   "execution_count": 9,
   "id": "39fd8869",
   "metadata": {},
   "outputs": [
    {
     "name": "stdout",
     "output_type": "stream",
     "text": [
      "Cross-validation R² scores: [0.9762805  0.97272472 0.98519224 0.97474393 0.97339982 0.9766526\n",
      " 0.97867642 0.97856673 0.97311504 0.98208522]\n",
      "Mean R²: 0.9771437202835862\n",
      "Std Dev: 0.0038741590408529433\n"
     ]
    }
   ],
   "source": [
    "from sklearn.model_selection import cross_val_score, KFold\n",
    "import numpy as np\n",
    "\n",
    "kf = KFold(n_splits=10, shuffle=True, random_state=23)\n",
    "scores = cross_val_score(pipeline, X, y, cv=kf, scoring=\"r2\", error_score=\"raise\")\n",
    "\n",
    "print(\"Cross-validation R² scores:\", scores)\n",
    "print(\"Mean R²:\", np.mean(scores))\n",
    "print(\"Std Dev:\", np.std(scores))"
   ]
  },
  {
   "cell_type": "markdown",
   "id": "52b7ccd1",
   "metadata": {},
   "source": [
    "## **Feature Importance**"
   ]
  },
  {
   "cell_type": "code",
   "execution_count": 10,
   "id": "0a1ef6f6",
   "metadata": {},
   "outputs": [
    {
     "data": {
      "application/vnd.microsoft.datawrangler.viewer.v0+json": {
       "columns": [
        {
         "name": "index",
         "rawType": "int64",
         "type": "integer"
        },
        {
         "name": "Feature",
         "rawType": "object",
         "type": "string"
        },
        {
         "name": "Importance",
         "rawType": "float64",
         "type": "float"
        }
       ],
       "ref": "9dfa7574-cbd4-4325-be8e-de90450ce7f1",
       "rows": [
        [
         "201",
         "Years of Experience",
         "0.755676465318484"
        ],
        [
         "200",
         "Age",
         "0.04517594404489692"
        ],
        [
         "27",
         "Job Title_Data Scientist",
         "0.03368822415794593"
        ],
        [
         "25",
         "Job Title_Data Analyst",
         "0.0333659085304886"
        ],
        [
         "184",
         "Job Title_Software Engineer",
         "0.029667283884651813"
        ],
        [
         "114",
         "Job Title_Product Manager",
         "0.017631754364500433"
        ],
        [
         "4",
         "Education Level_High School",
         "0.009810121195787369"
        ],
        [
         "6",
         "Education Level_PhD",
         "0.00716855559534964"
        ],
        [
         "52",
         "Job Title_Full Stack Engineer",
         "0.006317734811951467"
        ],
        [
         "3",
         "Education Level_Bachelor's Degree",
         "0.00496528172877553"
        ],
        [
         "10",
         "Job Title_Back end Developer",
         "0.004598512396185148"
        ],
        [
         "185",
         "Job Title_Software Engineer Manager",
         "0.004396700195410615"
        ],
        [
         "166",
         "Job Title_Senior Project Engineer",
         "0.004286068754371735"
        ],
        [
         "49",
         "Job Title_Financial Manager",
         "0.003876448565175005"
        ],
        [
         "1",
         "Gender_Male",
         "0.0038520205654179575"
        ],
        [
         "176",
         "Job Title_Senior Software Engineer",
         "0.00380529145158009"
        ],
        [
         "103",
         "Job Title_Marketing Director",
         "0.003572590180068322"
        ],
        [
         "5",
         "Education Level_Master's Degree",
         "0.002914578004478328"
        ],
        [
         "51",
         "Job Title_Front end Developer",
         "0.00290266359645973"
        ],
        [
         "0",
         "Gender_Female",
         "0.0023438436203507716"
        ],
        [
         "38",
         "Job Title_Director of HR",
         "0.0019969772492539305"
        ],
        [
         "35",
         "Job Title_Director of Data Science",
         "0.0017537695490188075"
        ],
        [
         "104",
         "Job Title_Marketing Manager",
         "0.0016342408799621842"
        ],
        [
         "124",
         "Job Title_Sales Director",
         "0.0012379006546750814"
        ],
        [
         "169",
         "Job Title_Senior Research Scientist",
         "0.0008961894147615961"
        ],
        [
         "94",
         "Job Title_Junior Software Developer",
         "0.0008200041538311849"
        ],
        [
         "110",
         "Job Title_Operations Manager",
         "0.0006289546018363217"
        ],
        [
         "147",
         "Job Title_Senior Human Resources Manager",
         "0.000545662066061186"
        ],
        [
         "164",
         "Job Title_Senior Product Marketing Manager",
         "0.0003991252347679455"
        ],
        [
         "183",
         "Job Title_Software Developer",
         "0.000376293842860263"
        ],
        [
         "121",
         "Job Title_Research Director",
         "0.0003515338781095621"
        ],
        [
         "59",
         "Job Title_Human Resources Manager",
         "0.00029081097487951486"
        ],
        [
         "137",
         "Job Title_Senior Data Scientist",
         "0.00028820603663441355"
        ],
        [
         "126",
         "Job Title_Sales Manager",
         "0.0002881402075494712"
        ],
        [
         "41",
         "Job Title_Director of Marketing",
         "0.0002808256020991835"
        ],
        [
         "117",
         "Job Title_Project Manager",
         "0.0002533456978491343"
        ],
        [
         "48",
         "Job Title_Financial Analyst",
         "0.00025217093706898086"
        ],
        [
         "46",
         "Job Title_Event Coordinator",
         "0.0002513842139412959"
        ],
        [
         "120",
         "Job Title_Recruiter",
         "0.00024846719640528715"
        ],
        [
         "9",
         "Job Title_Administrative Assistant",
         "0.00023910095680907545"
        ],
        [
         "78",
         "Job Title_Junior HR Generalist",
         "0.00023842175469840213"
        ],
        [
         "107",
         "Job Title_Office Manager",
         "0.0002215769077884221"
        ],
        [
         "14",
         "Job Title_CEO",
         "0.00021923798895699315"
        ],
        [
         "194",
         "Job Title_Training Specialist",
         "0.00018884162689161547"
        ],
        [
         "16",
         "Job Title_Chief Technology Officer",
         "0.0001886276777213579"
        ],
        [
         "167",
         "Job Title_Senior Project Manager",
         "0.00018742538202098585"
        ],
        [
         "165",
         "Job Title_Senior Project Coordinator",
         "0.00018698844917134602"
        ],
        [
         "54",
         "Job Title_HR Generalist",
         "0.00018159598516518828"
        ],
        [
         "2",
         "Gender_Other",
         "0.00017626453134416366"
        ],
        [
         "199",
         "Job Title_Web Developer",
         "0.00016916718918422185"
        ]
       ],
       "shape": {
        "columns": 2,
        "rows": 202
       }
      },
      "text/html": [
       "<div>\n",
       "<style scoped>\n",
       "    .dataframe tbody tr th:only-of-type {\n",
       "        vertical-align: middle;\n",
       "    }\n",
       "\n",
       "    .dataframe tbody tr th {\n",
       "        vertical-align: top;\n",
       "    }\n",
       "\n",
       "    .dataframe thead th {\n",
       "        text-align: right;\n",
       "    }\n",
       "</style>\n",
       "<table border=\"1\" class=\"dataframe\">\n",
       "  <thead>\n",
       "    <tr style=\"text-align: right;\">\n",
       "      <th></th>\n",
       "      <th>Feature</th>\n",
       "      <th>Importance</th>\n",
       "    </tr>\n",
       "  </thead>\n",
       "  <tbody>\n",
       "    <tr>\n",
       "      <th>201</th>\n",
       "      <td>Years of Experience</td>\n",
       "      <td>0.755676</td>\n",
       "    </tr>\n",
       "    <tr>\n",
       "      <th>200</th>\n",
       "      <td>Age</td>\n",
       "      <td>0.045176</td>\n",
       "    </tr>\n",
       "    <tr>\n",
       "      <th>27</th>\n",
       "      <td>Job Title_Data Scientist</td>\n",
       "      <td>0.033688</td>\n",
       "    </tr>\n",
       "    <tr>\n",
       "      <th>25</th>\n",
       "      <td>Job Title_Data Analyst</td>\n",
       "      <td>0.033366</td>\n",
       "    </tr>\n",
       "    <tr>\n",
       "      <th>184</th>\n",
       "      <td>Job Title_Software Engineer</td>\n",
       "      <td>0.029667</td>\n",
       "    </tr>\n",
       "    <tr>\n",
       "      <th>...</th>\n",
       "      <td>...</td>\n",
       "      <td>...</td>\n",
       "    </tr>\n",
       "    <tr>\n",
       "      <th>39</th>\n",
       "      <td>Job Title_Director of Human Capital</td>\n",
       "      <td>0.000000</td>\n",
       "    </tr>\n",
       "    <tr>\n",
       "      <th>73</th>\n",
       "      <td>Job Title_Junior Designer</td>\n",
       "      <td>0.000000</td>\n",
       "    </tr>\n",
       "    <tr>\n",
       "      <th>84</th>\n",
       "      <td>Job Title_Junior Operations Coordinator</td>\n",
       "      <td>0.000000</td>\n",
       "    </tr>\n",
       "    <tr>\n",
       "      <th>119</th>\n",
       "      <td>Job Title_Receptionist</td>\n",
       "      <td>0.000000</td>\n",
       "    </tr>\n",
       "    <tr>\n",
       "      <th>192</th>\n",
       "      <td>Job Title_Technical Support Specialist</td>\n",
       "      <td>0.000000</td>\n",
       "    </tr>\n",
       "  </tbody>\n",
       "</table>\n",
       "<p>202 rows × 2 columns</p>\n",
       "</div>"
      ],
      "text/plain": [
       "                                     Feature  Importance\n",
       "201                      Years of Experience    0.755676\n",
       "200                                      Age    0.045176\n",
       "27                  Job Title_Data Scientist    0.033688\n",
       "25                    Job Title_Data Analyst    0.033366\n",
       "184              Job Title_Software Engineer    0.029667\n",
       "..                                       ...         ...\n",
       "39       Job Title_Director of Human Capital    0.000000\n",
       "73                 Job Title_Junior Designer    0.000000\n",
       "84   Job Title_Junior Operations Coordinator    0.000000\n",
       "119                   Job Title_Receptionist    0.000000\n",
       "192   Job Title_Technical Support Specialist    0.000000\n",
       "\n",
       "[202 rows x 2 columns]"
      ]
     },
     "execution_count": 10,
     "metadata": {},
     "output_type": "execute_result"
    }
   ],
   "source": [
    "pipeline.fit(X, y)\n",
    "\n",
    "# Get feature names from the ColumnTransformer\n",
    "one_hot_encoder = pipeline.named_steps[\"preprocessor\"].named_transformers_[\"cat\"]\n",
    "one_hot_encoder_features = one_hot_encoder.get_feature_names_out(categorical_features) # Getting categorical features\n",
    "\n",
    "num_features = numerical_features # features of numerical columns\n",
    "\n",
    "all_features = np.concat([one_hot_encoder_features, num_features])\n",
    "\n",
    "RFR_model = pipeline.named_steps[\"model\"]\n",
    "importance = RFR_model.feature_importances_\n",
    "\n",
    "feature_importance = pd.DataFrame({\"Feature\": all_features,\n",
    "                                   \"Importance\": importance}).sort_values(by=\"Importance\",ascending=False)\n",
    "feature_importance"
   ]
  },
  {
   "cell_type": "markdown",
   "id": "4e2981d1",
   "metadata": {},
   "source": [
    "## **Hyperparameter Tuning**"
   ]
  },
  {
   "cell_type": "markdown",
   "id": "4ba05e82",
   "metadata": {},
   "source": [
    "### Using GridSearchCV"
   ]
  },
  {
   "cell_type": "code",
   "execution_count": 11,
   "id": "0cc8cb19",
   "metadata": {},
   "outputs": [
    {
     "name": "stdout",
     "output_type": "stream",
     "text": [
      "Fitting 5 folds for each of 216 candidates, totalling 1080 fits\n",
      "Best Parameters: {'model__max_depth': 30, 'model__max_features': 'sqrt', 'model__min_samples_leaf': 1, 'model__min_samples_split': 5, 'model__n_estimators': 200}\n",
      "Best CV R2 Score: 0.650883017932322\n"
     ]
    }
   ],
   "source": [
    "from sklearn.model_selection import GridSearchCV\n",
    "parameter_grid = {\"model__n_estimators\": [100, 200, 300],\n",
    "                  \"model__max_depth\": [None, 10, 20, 30],\n",
    "                  \"model__min_samples_split\": [2, 5, 10],\n",
    "                  \"model__min_samples_leaf\": [1, 2, 4],\n",
    "                  \"model__max_features\": [\"sqrt\", \"log2\"]}\n",
    "grid_search = GridSearchCV(pipeline,                  # pipeline previously created\n",
    "                           param_grid=parameter_grid, # parameter grid defined above\n",
    "                           cv=5,                      # number of cross validations\n",
    "                           scoring=\"r2\",              # optimising for the r2 score\n",
    "                           n_jobs=-1,                 # -1 means, all CPU cores should be used\n",
    "                           verbose=2)\n",
    "\n",
    "grid_search.fit(X, y)\n",
    "print(\"Best Parameters:\", grid_search.best_params_)\n",
    "print(\"Best CV R2 Score:\", grid_search.best_score_)"
   ]
  },
  {
   "cell_type": "markdown",
   "id": "5d9df39f",
   "metadata": {},
   "source": [
    "### Fitting a Model from Best Parameters"
   ]
  },
  {
   "cell_type": "code",
   "execution_count": 12,
   "id": "3170b644",
   "metadata": {},
   "outputs": [
    {
     "name": "stdout",
     "output_type": "stream",
     "text": [
      "Test R²: 0.9827021681308856\n",
      "Test MAE: 3840.4472679921664\n",
      "Test MSE: 47826315.469964355\n"
     ]
    }
   ],
   "source": [
    "best_model =grid_search.best_estimator_\n",
    "best_model.fit(X, y)\n",
    "\n",
    "from sklearn.metrics import r2_score, mean_absolute_error, mean_squared_error\n",
    "from sklearn.model_selection import train_test_split\n",
    "X_train, X_test, y_train, y_test = train_test_split(X, y, random_state=23, test_size=0.2)\n",
    "\n",
    "y_pred = best_model.predict(X_test)\n",
    "print(\"Test R²:\", r2_score(y_test, y_pred))\n",
    "print(\"Test MAE:\", mean_absolute_error(y_test, y_pred))\n",
    "print(\"Test MSE:\", mean_squared_error(y_test, y_pred))"
   ]
  },
  {
   "cell_type": "markdown",
   "id": "d46d4483",
   "metadata": {},
   "source": [
    "### Actual and Predicted Values"
   ]
  },
  {
   "cell_type": "code",
   "execution_count": 13,
   "id": "f67af7bc",
   "metadata": {},
   "outputs": [
    {
     "data": {
      "application/vnd.microsoft.datawrangler.viewer.v0+json": {
       "columns": [
        {
         "name": "index",
         "rawType": "int64",
         "type": "integer"
        },
        {
         "name": "Actual",
         "rawType": "float64",
         "type": "float"
        },
        {
         "name": "Predicted",
         "rawType": "float64",
         "type": "float"
        }
       ],
       "ref": "36ca262b-7099-4c2c-b98d-9a773d90b697",
       "rows": [
        [
         "0",
         "185000.0",
         "184445.51591520023"
        ],
        [
         "1",
         "100000.0",
         "96550.39213207805"
        ],
        [
         "2",
         "191267.0",
         "191146.32697356996"
        ],
        [
         "3",
         "80000.0",
         "80806.73078432545"
        ],
        [
         "4",
         "95000.0",
         "89863.68325925319"
        ]
       ],
       "shape": {
        "columns": 2,
        "rows": 5
       }
      },
      "text/html": [
       "<div>\n",
       "<style scoped>\n",
       "    .dataframe tbody tr th:only-of-type {\n",
       "        vertical-align: middle;\n",
       "    }\n",
       "\n",
       "    .dataframe tbody tr th {\n",
       "        vertical-align: top;\n",
       "    }\n",
       "\n",
       "    .dataframe thead th {\n",
       "        text-align: right;\n",
       "    }\n",
       "</style>\n",
       "<table border=\"1\" class=\"dataframe\">\n",
       "  <thead>\n",
       "    <tr style=\"text-align: right;\">\n",
       "      <th></th>\n",
       "      <th>Actual</th>\n",
       "      <th>Predicted</th>\n",
       "    </tr>\n",
       "  </thead>\n",
       "  <tbody>\n",
       "    <tr>\n",
       "      <th>0</th>\n",
       "      <td>185000.0</td>\n",
       "      <td>184445.515915</td>\n",
       "    </tr>\n",
       "    <tr>\n",
       "      <th>1</th>\n",
       "      <td>100000.0</td>\n",
       "      <td>96550.392132</td>\n",
       "    </tr>\n",
       "    <tr>\n",
       "      <th>2</th>\n",
       "      <td>191267.0</td>\n",
       "      <td>191146.326974</td>\n",
       "    </tr>\n",
       "    <tr>\n",
       "      <th>3</th>\n",
       "      <td>80000.0</td>\n",
       "      <td>80806.730784</td>\n",
       "    </tr>\n",
       "    <tr>\n",
       "      <th>4</th>\n",
       "      <td>95000.0</td>\n",
       "      <td>89863.683259</td>\n",
       "    </tr>\n",
       "  </tbody>\n",
       "</table>\n",
       "</div>"
      ],
      "text/plain": [
       "     Actual      Predicted\n",
       "0  185000.0  184445.515915\n",
       "1  100000.0   96550.392132\n",
       "2  191267.0  191146.326974\n",
       "3   80000.0   80806.730784\n",
       "4   95000.0   89863.683259"
      ]
     },
     "execution_count": 13,
     "metadata": {},
     "output_type": "execute_result"
    }
   ],
   "source": [
    "# Take first 5 rows from test set\n",
    "X_sample = X_test[:5]\n",
    "y_actual = y_test[:5]\n",
    "\n",
    "# Predict with your best model\n",
    "y_pred = best_model.predict(X_sample)\n",
    "\n",
    "# Compare in a DataFrame\n",
    "comparison = pd.DataFrame({\n",
    "    \"Actual\": y_actual.values,\n",
    "    \"Predicted\": y_pred\n",
    "})\n",
    "comparison"
   ]
  },
  {
   "cell_type": "code",
   "execution_count": 17,
   "id": "d3c6385d",
   "metadata": {},
   "outputs": [
    {
     "data": {
      "image/png": "[encoded data removed]",
      "text/plain": [
       "<Figure size 640x480 with 1 Axes>"
      ]
     },
     "metadata": {},
     "output_type": "display_data"
    },
    {
     "data": {
      "text/plain": [
       "<Figure size 640x480 with 0 Axes>"
      ]
     },
     "metadata": {},
     "output_type": "display_data"
    }
   ],
   "source": [
    "import matplotlib.pyplot as plt\n",
    "import numpy as np\n",
    "\n",
    "# Plot Actual vs Predicted for the sample\n",
    "labels = np.arange(len(y_actual))  # index positions\n",
    "width = 0.35\n",
    "\n",
    "plt.bar(labels - width/2, y_actual, width, label=\"Actual\")\n",
    "plt.bar(labels + width/2, y_pred, width, label=\"Predicted\")\n",
    "\n",
    "plt.xlabel(\"Sample Index\")\n",
    "plt.ylabel(\"Salary\")\n",
    "plt.title(\"Actual vs Predicted Salaries (Sample of 5)\")\n",
    "plt.legend()\n",
    "plt.show()\n",
    "plt.savefig(\"Actual vs Predicted Salaries.png\")"
   ]
  },
  {
   "cell_type": "markdown",
   "id": "9efd06d3",
   "metadata": {},
   "source": [
    "## **Saving Best Fit Model**"
   ]
  },
  {
   "cell_type": "code",
   "execution_count": 15,
   "id": "716c4f10",
   "metadata": {},
   "outputs": [
    {
     "data": {
      "text/plain": [
       "['salary_prediction_model.pkl']"
      ]
     },
     "execution_count": 15,
     "metadata": {},
     "output_type": "execute_result"
    }
   ],
   "source": [
    "import joblib\n",
    "joblib.dump(best_model, \"salary_prediction_model.pkl\")"
   ]
  },
  {
   "cell_type": "markdown",
   "id": "ec7179c0",
   "metadata": {},
   "source": [
    "## **Turn Model to a Function**"
   ]
  },
  {
   "cell_type": "code",
   "execution_count": 16,
   "id": "45c66ebb",
   "metadata": {},
   "outputs": [
    {
     "name": "stdout",
     "output_type": "stream",
     "text": [
      "Predicted salary: 172227.84\n"
     ]
    }
   ],
   "source": [
    "model = joblib.load(\"salary_prediction_model.pkl\")\n",
    "\n",
    "feature_names = ['Age', 'Gender', 'Education Level', 'Job Title', 'Years of Experience']\n",
    "\n",
    "def predict_salary(Age, Gender, Edu_Level, Job_Title, Years_Exp):\n",
    "    input_data = pd.DataFrame([{\n",
    "        \"Age\": Age,\n",
    "        \"Gender\": Gender,\n",
    "        \"Education Level\": Edu_Level,\n",
    "        \"Job Title\": Job_Title,\n",
    "        \"Years of Experience\": Years_Exp\n",
    "    }])\n",
    "\n",
    "    prediction = model.predict(input_data)[0]  \n",
    "    return prediction\n",
    "\n",
    "\n",
    "salary = predict_salary(Age=30, Gender=\"Male\", Edu_Level=\"PhD\", Job_Title=\"Data Scientist\", Years_Exp=20)\n",
    "print(f\"Predicted salary: {salary:.2f}\")"
   ]
  }
 ],
 "metadata": {
  "kernelspec": {
   "display_name": "Python 3",
   "language": "python",
   "name": "python3"
  },
  "language_info": {
   "codemirror_mode": {
    "name": "ipython",
    "version": 3
   },
   "file_extension": ".py",
   "mimetype": "text/x-python",
   "name": "python",
   "nbconvert_exporter": "python",
   "pygments_lexer": "ipython3",
   "version": "3.13.3"
  }
 },
 "nbformat": 4,
 "nbformat_minor": 5
}
